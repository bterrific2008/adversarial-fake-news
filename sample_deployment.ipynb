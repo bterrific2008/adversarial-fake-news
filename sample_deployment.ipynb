{
 "cells": [
  {
   "cell_type": "code",
   "execution_count": 1,
   "metadata": {},
   "outputs": [],
   "source": [
    "sentence = \"\"\"An intriguing Ministry of Finance (MoF) report circulating in the Kremlin today says that elite Western bankers were stunned a few hours ago after the Bank For International Settlements (BIS) registered a $1.8 billion transfer from the Clinton Foundation (CF) to the Qatar Central Bank (QCB) through the “facilitation/abetment” of JP Morgan Chase & Company (JPM)—and for reasons yet to be firmly established. \n",
    "According to this report, the Bank for International Settlements is the world's oldest international financial organization and acts as a prime counterparty for central banks in their financial transactions; the Qatar Central Bank is the bank of that Gulf State nations government and their “bank of banks”; JP Morgan Chase & Company is the United States largest “megabank”; and the Clinton Foundation is an international criminal money laundering organization whose clients include the Russian mafia. \n",
    "With Hillary Clinton’s US presidential campaign Chairman John Podesta having longstanding ties to the Russian mafia and money laundering, this report continues, the Foreign Intelligence Service (SVR) maintains complete surveillance of him and his criminal associates—including both Hillary Clinton and her husband, and former US President, Bill Clinton. \n",
    "On Saturday 15 October (2016), this report notes, the SVR reported to the MoF that Hillary Clinton and John Podesta met with JP Morgan Chase & Company CEO Jamie Dimon at Clinton’s Chappaqua Compound outside of New York City—and who, in 2009, both President Obama and Hillary Clinton allowed to break US laws by his, Dimon’s, being able to buy millions-of-dollars of his company’s stocks prior to the public being told his JP Morgan bank was receiving a Federal Reserve $80 billion credit line—and that caused JP Morgan’s stocks to soar and that have had an astonishing 920% dividend growth since 2010. \n",
    "Within 12 hours of the Hillary Clinton-John Podesta-Jamie Dimon meeting at the Chappaqua Compound, this report continues, the BIS registered the transfer of $1.8 billion from the Clinton Foundation to the Qatar Central Bank. \n",
    "To why the Clinton Foundation transferred this enormous sum of money to Qatar, this report explains, is due to the longstanding ties between this Islamic neo-patrimonial absolute monarchy and then US Secretary of State Hillary Clinton who oversaw the “massive bribery scheme” that allowed this Gulf State nation to secure the 2022 World Cup—and that the Qataris were so appreciative of they donated millions to the Clinton Foundation, and incredibly, in 2011, gave former US President Bill Clinton $1 million for a birthday present—bringing Hillary Clinton’s total “cash grab” from these Persian Gulf sheiks of $100 million—all occurring as recently released secret emails revealed Hillary Clinton’s knowledge that both Qatar and Saudi Arabia were, and still are, funding ISIS. \n",
    "To what Jamie Dimon said to Hillary Clinton that caused her to suddenly transfer $1.8 billion to Qatar, this report notes, revolves around his JP Morgan bank being told by the US Federal Deposit Insurance Corporation (FDIC) in April (2016) that this “megabanks” master plan to save itself had “serious deficiencies” that could “pose serious adverse effects to the financial stability of the United States”. \n",
    "Two months after the FDIC’s warning letter to Jamie Dimon, in June (2016), this report says, he cryptically “sounded a warning” that the United States sub-prime auto loan bubble was nearing collapse and stated that “someone is going to get hurt”. \n",
    "Unbeknownst to the American people, MoF experts in this report explain, is that just 8 weeks ago multiple warnings began to be issued that the United States $1 trillion sub-prime auto loan bubble was beginning to collapse—and that this past week became so severe the Bank of America issued a recession warning telling its elite customers that “this market is scary”, and the British-based multinational banking and financial services company HSBC, likewise, issued a “Red Alert” warning all of its clients warning them to “prepare for a severe market crash”. \n",
    "With one of the first casualties of this sub-prime auto loan bubble being the German global banking giant Deutsche Bank that is “nearing its doom” and laying off tens-of-thousands of it workers worldwide, this report grimly states, the American mainstream propaganda media is failing to allow the people of that nation to know the full extent of this looming catastrophe—who unlike Hillary Clinton who has just protected $1.8 billion of her wealth, will be left defenseless once again at the hands of their elite rulers. \n",
    "As Wikileaks secret Hillary Clinton emails have now proven that the US propaganda mainstream media is now totally controlled by her, and who continue their blackout on the “Clinton Crime Story of the Century”, this report continues, the absolutely horrifying statistics released this week showing that an astounding 35% of American who have been brutalized by the Obama-Clinton regime these past 8 years are so buried in debt they can no longer pay their bills is, likewise, being kept from these most innocent of peoples.\",1\"\"\""
   ]
  },
  {
   "cell_type": "code",
   "execution_count": 2,
   "metadata": {},
   "outputs": [
    {
     "name": "stderr",
     "output_type": "stream",
     "text": [
      "/home/bterrific2008/.local/lib/python3.6/site-packages/tensorflow/python/framework/dtypes.py:516: FutureWarning: Passing (type, 1) or '1type' as a synonym of type is deprecated; in a future version of numpy, it will be understood as (type, (1,)) / '(1,)type'.\n",
      "  _np_qint8 = np.dtype([(\"qint8\", np.int8, 1)])\n",
      "/home/bterrific2008/.local/lib/python3.6/site-packages/tensorflow/python/framework/dtypes.py:517: FutureWarning: Passing (type, 1) or '1type' as a synonym of type is deprecated; in a future version of numpy, it will be understood as (type, (1,)) / '(1,)type'.\n",
      "  _np_quint8 = np.dtype([(\"quint8\", np.uint8, 1)])\n",
      "/home/bterrific2008/.local/lib/python3.6/site-packages/tensorflow/python/framework/dtypes.py:518: FutureWarning: Passing (type, 1) or '1type' as a synonym of type is deprecated; in a future version of numpy, it will be understood as (type, (1,)) / '(1,)type'.\n",
      "  _np_qint16 = np.dtype([(\"qint16\", np.int16, 1)])\n",
      "/home/bterrific2008/.local/lib/python3.6/site-packages/tensorflow/python/framework/dtypes.py:519: FutureWarning: Passing (type, 1) or '1type' as a synonym of type is deprecated; in a future version of numpy, it will be understood as (type, (1,)) / '(1,)type'.\n",
      "  _np_quint16 = np.dtype([(\"quint16\", np.uint16, 1)])\n",
      "/home/bterrific2008/.local/lib/python3.6/site-packages/tensorflow/python/framework/dtypes.py:520: FutureWarning: Passing (type, 1) or '1type' as a synonym of type is deprecated; in a future version of numpy, it will be understood as (type, (1,)) / '(1,)type'.\n",
      "  _np_qint32 = np.dtype([(\"qint32\", np.int32, 1)])\n",
      "/home/bterrific2008/.local/lib/python3.6/site-packages/tensorflow/python/framework/dtypes.py:525: FutureWarning: Passing (type, 1) or '1type' as a synonym of type is deprecated; in a future version of numpy, it will be understood as (type, (1,)) / '(1,)type'.\n",
      "  np_resource = np.dtype([(\"resource\", np.ubyte, 1)])\n",
      "/home/bterrific2008/.local/lib/python3.6/site-packages/tensorboard/compat/tensorflow_stub/dtypes.py:541: FutureWarning: Passing (type, 1) or '1type' as a synonym of type is deprecated; in a future version of numpy, it will be understood as (type, (1,)) / '(1,)type'.\n",
      "  _np_qint8 = np.dtype([(\"qint8\", np.int8, 1)])\n",
      "/home/bterrific2008/.local/lib/python3.6/site-packages/tensorboard/compat/tensorflow_stub/dtypes.py:542: FutureWarning: Passing (type, 1) or '1type' as a synonym of type is deprecated; in a future version of numpy, it will be understood as (type, (1,)) / '(1,)type'.\n",
      "  _np_quint8 = np.dtype([(\"quint8\", np.uint8, 1)])\n",
      "/home/bterrific2008/.local/lib/python3.6/site-packages/tensorboard/compat/tensorflow_stub/dtypes.py:543: FutureWarning: Passing (type, 1) or '1type' as a synonym of type is deprecated; in a future version of numpy, it will be understood as (type, (1,)) / '(1,)type'.\n",
      "  _np_qint16 = np.dtype([(\"qint16\", np.int16, 1)])\n",
      "/home/bterrific2008/.local/lib/python3.6/site-packages/tensorboard/compat/tensorflow_stub/dtypes.py:544: FutureWarning: Passing (type, 1) or '1type' as a synonym of type is deprecated; in a future version of numpy, it will be understood as (type, (1,)) / '(1,)type'.\n",
      "  _np_quint16 = np.dtype([(\"quint16\", np.uint16, 1)])\n",
      "/home/bterrific2008/.local/lib/python3.6/site-packages/tensorboard/compat/tensorflow_stub/dtypes.py:545: FutureWarning: Passing (type, 1) or '1type' as a synonym of type is deprecated; in a future version of numpy, it will be understood as (type, (1,)) / '(1,)type'.\n",
      "  _np_qint32 = np.dtype([(\"qint32\", np.int32, 1)])\n",
      "/home/bterrific2008/.local/lib/python3.6/site-packages/tensorboard/compat/tensorflow_stub/dtypes.py:550: FutureWarning: Passing (type, 1) or '1type' as a synonym of type is deprecated; in a future version of numpy, it will be understood as (type, (1,)) / '(1,)type'.\n",
      "  np_resource = np.dtype([(\"resource\", np.ubyte, 1)])\n",
      "Using TensorFlow backend.\n"
     ]
    }
   ],
   "source": [
    "import tensorflow as tf\n",
    "from keras.preprocessing import sequence\n",
    "import pickle\n",
    "import re\n",
    "from nltk.corpus import stopwords\n",
    "import string"
   ]
  },
  {
   "cell_type": "code",
   "execution_count": 3,
   "metadata": {},
   "outputs": [
    {
     "name": "stdout",
     "output_type": "stream",
     "text": [
      "WARNING:tensorflow:From /home/bterrific2008/.local/lib/python3.6/site-packages/tensorflow/python/keras/initializers.py:119: calling RandomUniform.__init__ (from tensorflow.python.ops.init_ops) with dtype is deprecated and will be removed in a future version.\n",
      "Instructions for updating:\n",
      "Call initializer instance with the dtype argument instead of passing it to the constructor\n",
      "WARNING:tensorflow:From /home/bterrific2008/.local/lib/python3.6/site-packages/tensorflow/python/ops/nn_impl.py:180: add_dispatch_support.<locals>.wrapper (from tensorflow.python.ops.array_ops) is deprecated and will be removed in a future version.\n",
      "Instructions for updating:\n",
      "Use tf.where in 2.0, which has the same broadcast rule as np.where\n"
     ]
    }
   ],
   "source": [
    "model = tf.keras.models.load_model('fake_news_detector.h5')\n",
    "word_bank = pickle.load(open(\"word_bank.pickle\", \"rb\"))"
   ]
  },
  {
   "cell_type": "code",
   "execution_count": 4,
   "metadata": {},
   "outputs": [],
   "source": [
    "def clean_text(text):\n",
    "    text = re.sub(r\"[^A-Za-z0-9^,!.\\/'+-=]\", \" \", text)\n",
    "    text = text.lower().split()\n",
    "    stops = set(stopwords.words(\"english\"))\n",
    "    text = [w for w in text if not w in stops]\n",
    "    text = \" \".join(text)\n",
    "    text = text.translate(str.maketrans(\"\", \"\", string.punctuation))\n",
    "    return (text)"
   ]
  },
  {
   "cell_type": "code",
   "execution_count": 5,
   "metadata": {},
   "outputs": [],
   "source": [
    "def vectorize_tokens(tokens):\n",
    "    vector = []\n",
    "    for t in tokens:\n",
    "        if t in word_bank:\n",
    "            vector.append(word_bank[t])\n",
    "    return vector"
   ]
  },
  {
   "cell_type": "code",
   "execution_count": 6,
   "metadata": {},
   "outputs": [],
   "source": [
    "tokens = clean_text(sentence).split()\n",
    "vectorized_tokens = vectorize_tokens(tokens)\n",
    "X_value = sequence.pad_sequences([vectorized_tokens], maxlen=500)"
   ]
  },
  {
   "cell_type": "code",
   "execution_count": 7,
   "metadata": {},
   "outputs": [
    {
     "data": {
      "text/plain": [
       "array([[0.99104744]], dtype=float32)"
      ]
     },
     "execution_count": 7,
     "metadata": {},
     "output_type": "execute_result"
    }
   ],
   "source": [
    "model.predict_proba(X_value)"
   ]
  },
  {
   "cell_type": "code",
   "execution_count": 8,
   "metadata": {},
   "outputs": [],
   "source": [
    "model_json = model.to_json()\n",
    "with open(\"network.json\", \"w\") as json_file:\n",
    "    json_file.write(model_json)\n",
    "model.save_weights(\"network.h5\")"
   ]
  },
  {
   "cell_type": "code",
   "execution_count": null,
   "metadata": {},
   "outputs": [],
   "source": []
  }
 ],
 "metadata": {
  "kernelspec": {
   "display_name": "Python 3",
   "language": "python",
   "name": "python3"
  },
  "language_info": {
   "codemirror_mode": {
    "name": "ipython",
    "version": 3
   },
   "file_extension": ".py",
   "mimetype": "text/x-python",
   "name": "python",
   "nbconvert_exporter": "python",
   "pygments_lexer": "ipython3",
   "version": "3.6.9"
  }
 },
 "nbformat": 4,
 "nbformat_minor": 4
}
